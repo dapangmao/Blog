{
 "cells": [
  {
   "cell_type": "markdown",
   "metadata": {},
   "source": [
    "Since the version 1.3, Spark has introduced the new data structure `DataFrame`. A data analyst now could easily scale out the exsiting codes based on the `DataFrame` from Python or R to a cluster hosting Hadoop and Spark.\n",
    "\n",
    "There are quite a few practical scenarios that `DataFrame` fits well. For example, a lot of data files including the hardly read SAS files want to merge into a single data store. [Apache Parquet](https://parquet.apache.org/documentation/latest/) is a popular column store in a distributed environment, and especially friendly to structured or semi-strucutred data. It is an ideal candidate for a univeral data destination.\n",
    "\n",
    "I copy three SAS files called `prdsale`, `prdsal2` and `prdsal3`, which are about a simulated sales record, from the SASHELP library to a Linux directory. And then I launch the SQL context from Spark 1.4. \n",
    "\n",
    "The three SAS files now have the size of 4.2MB. My overall strategy is to build a pipeline to realize my purpose such as `SAS --> Python --> Spark --> Parquet`."
   ]
  },
  {
   "cell_type": "code",
   "execution_count": 1,
   "metadata": {
    "collapsed": false
   },
   "outputs": [
    {
     "name": "stdout",
     "output_type": "stream",
     "text": [
      "Spark verion is 1.4.0\n",
      "prdsale.sas7bdat has 148,480 bytes\n",
      "prdsal2.sas7bdat has 2,790,400 bytes\n",
      "prdsal3.sas7bdat has 1,401,856 bytes\n",
      "4.2M\t.\r\n",
      "4.2M\ttotal\r\n"
     ]
    }
   ],
   "source": [
    "import os\n",
    "try:\n",
    "    import sas7bdat\n",
    "    import pandas\n",
    "except ImportError:\n",
    "    print('try to install the packags first')\n",
    "\n",
    "print('Spark verion is {}'.format(sc.version))\n",
    "\n",
    "if type(sqlContext) != pyspark.sql.context.HiveContext:\n",
    "    print('reset the Spark SQL context')\n",
    "    \n",
    "os.chdir('/root/playground')\n",
    "    \n",
    "def print_bytes(filename):\n",
    "    print('{} has {:,} bytes'.format(filename, os.path.getsize(filename)))\n",
    "    \n",
    "print_bytes('prdsale.sas7bdat')\n",
    "print_bytes('prdsal2.sas7bdat')\n",
    "print_bytes('prdsal3.sas7bdat')\n",
    "\n",
    "!du -ch --exclude=test_parquet"
   ]
  },
  {
   "cell_type": "markdown",
   "metadata": {},
   "source": [
    "####1. Test DataFrame in Python and Spark\n",
    "\n",
    "First I transform a SAS `sas7bdat` file to a pandas DataFrame.  The great thing in Spark is that a Python/pandas DataFrame could be translated to Spark DataFrame by the `createDataFrame` method. Now I have two DataFrames: one is a pandas DataFrame and the other is a Spark DataFrame. "
   ]
  },
  {
   "cell_type": "code",
   "execution_count": 4,
   "metadata": {
    "collapsed": false
   },
   "outputs": [
    {
     "name": "stdout",
     "output_type": "stream",
     "text": [
      "-----Data in Pandas dataframe-----\n",
      "   ACTUAL COUNTRY   DIVISION  MONTH  PREDICT   PRODTYPE PRODUCT  QUARTER  \\\n",
      "0     925  CANADA  EDUCATION  12054      850  FURNITURE    SOFA        1   \n",
      "1     999  CANADA  EDUCATION  12085      297  FURNITURE    SOFA        1   \n",
      "2     608  CANADA  EDUCATION  12113      846  FURNITURE    SOFA        1   \n",
      "3     642  CANADA  EDUCATION  12144      533  FURNITURE    SOFA        2   \n",
      "4     656  CANADA  EDUCATION  12174      646  FURNITURE    SOFA        2   \n",
      "\n",
      "  REGION  YEAR  \n",
      "0   EAST  1993  \n",
      "1   EAST  1993  \n",
      "2   EAST  1993  \n",
      "3   EAST  1993  \n",
      "4   EAST  1993  \n",
      "-----Data in Spark dataframe-----\n",
      "+------+-------+---------+-------+-------+---------+-------+-------+------+------+\n",
      "|ACTUAL|COUNTRY| DIVISION|  MONTH|PREDICT| PRODTYPE|PRODUCT|QUARTER|REGION|  YEAR|\n",
      "+------+-------+---------+-------+-------+---------+-------+-------+------+------+\n",
      "| 925.0| CANADA|EDUCATION|12054.0|  850.0|FURNITURE|   SOFA|    1.0|  EAST|1993.0|\n",
      "| 999.0| CANADA|EDUCATION|12085.0|  297.0|FURNITURE|   SOFA|    1.0|  EAST|1993.0|\n",
      "| 608.0| CANADA|EDUCATION|12113.0|  846.0|FURNITURE|   SOFA|    1.0|  EAST|1993.0|\n",
      "| 642.0| CANADA|EDUCATION|12144.0|  533.0|FURNITURE|   SOFA|    2.0|  EAST|1993.0|\n",
      "| 656.0| CANADA|EDUCATION|12174.0|  646.0|FURNITURE|   SOFA|    2.0|  EAST|1993.0|\n",
      "+------+-------+---------+-------+-------+---------+-------+-------+------+------+\n",
      "\n"
     ]
    }
   ],
   "source": [
    "with sas7bdat.SAS7BDAT('prdsale.sas7bdat') as f:\n",
    "     pandas_df = f.to_data_frame()\n",
    "print('-----Data in Pandas dataframe-----')\n",
    "print(pandas_df.head())\n",
    "\n",
    "print('-----Data in Spark dataframe-----')\n",
    "spark_df = sqlContext.createDataFrame(pandas_df)\n",
    "spark_df.show(5)"
   ]
  },
  {
   "cell_type": "markdown",
   "metadata": {},
   "source": [
    "The two should be the identical length. Here both show 1,440 rows. "
   ]
  },
  {
   "cell_type": "code",
   "execution_count": 5,
   "metadata": {
    "collapsed": false
   },
   "outputs": [
    {
     "name": "stdout",
     "output_type": "stream",
     "text": [
      "1440\n",
      "1440\n"
     ]
    }
   ],
   "source": [
    "print(len(pandas_df))\n",
    "print(spark_df.count())"
   ]
  },
  {
   "cell_type": "markdown",
   "metadata": {},
   "source": [
    "####2. Automate  the transformation\n",
    "\n",
    "I write a pipeline function to automate the transformation. As the result, the all three SAS files are saved to the same directory as Parquet format."
   ]
  },
  {
   "cell_type": "code",
   "execution_count": 6,
   "metadata": {
    "collapsed": false
   },
   "outputs": [
    {
     "name": "stdout",
     "output_type": "stream",
     "text": [
      "['prdsale.sas7bdat', 'prdsal2.sas7bdat', 'prdsal3.sas7bdat']\n",
      "36000 rows has been transformed\n"
     ]
    }
   ],
   "source": [
    "def sas_to_parquet(filelist, destination):\n",
    "    \"\"\"Save SAS file to parquet\n",
    "    Args:\n",
    "        filelist (list): the list of sas file names\n",
    "        destination (str): the path for parquet\n",
    "    Returns:\n",
    "        None\n",
    "    \"\"\"\n",
    "    rows = 0\n",
    "    for i, filename in enumerate(filelist):\n",
    "        with sas7bdat.SAS7BDAT(filename) as f:\n",
    "            pandas_df = f.to_data_frame()\n",
    "            rows += len(pandas_df)\n",
    "        spark_df = sqlContext.createDataFrame(pandas_df)\n",
    "        spark_df.save(\"{0}/key={1}\".format(destination, i), \"parquet\")\n",
    "    print('{0} rows have been transformed'.format(rows))\n",
    "    \n",
    "sasfiles = [x for x in os.listdir('.') if x[-9:] == '.sas7bdat']\n",
    "print(sasfiles)\n",
    "\n",
    "sas_to_parquet(sasfiles, '/root/playground/test_parquet')\n"
   ]
  },
  {
   "cell_type": "markdown",
   "metadata": {},
   "source": [
    "Then I read from the newly created Parquet data store. The query shows that the data has been successfully saved."
   ]
  },
  {
   "cell_type": "code",
   "execution_count": 11,
   "metadata": {
    "collapsed": false
   },
   "outputs": [
    {
     "name": "stdout",
     "output_type": "stream",
     "text": [
      "36000\n",
      "+------+-------+------+----+-------+-------+---------+-------+-------+-----+------+-----+---------+------+---+\n",
      "|ACTUAL|COUNTRY|COUNTY|DATE|  MONTH|PREDICT| PRODTYPE|PRODUCT|QUARTER|STATE|  YEAR|MONYR| DIVISION|REGION|key|\n",
      "+------+-------+------+----+-------+-------+---------+-------+-------+-----+------+-----+---------+------+---+\n",
      "| 925.0| CANADA|  null|null|12054.0|  850.0|FURNITURE|   SOFA|    1.0| null|1993.0| null|EDUCATION|  EAST|  0|\n",
      "| 999.0| CANADA|  null|null|12085.0|  297.0|FURNITURE|   SOFA|    1.0| null|1993.0| null|EDUCATION|  EAST|  0|\n",
      "| 608.0| CANADA|  null|null|12113.0|  846.0|FURNITURE|   SOFA|    1.0| null|1993.0| null|EDUCATION|  EAST|  0|\n",
      "| 642.0| CANADA|  null|null|12144.0|  533.0|FURNITURE|   SOFA|    2.0| null|1993.0| null|EDUCATION|  EAST|  0|\n",
      "| 656.0| CANADA|  null|null|12174.0|  646.0|FURNITURE|   SOFA|    2.0| null|1993.0| null|EDUCATION|  EAST|  0|\n",
      "+------+-------+------+----+-------+-------+---------+-------+-------+-----+------+-----+---------+------+---+\n",
      "\n"
     ]
    }
   ],
   "source": [
    "df = sqlContext.load(\"/root/playground/test_parquet\", \"parquet\")\n",
    "print(df.count())\n",
    "df.filter(df.key == 0).show(5)"
   ]
  },
  {
   "cell_type": "markdown",
   "metadata": {},
   "source": [
    "####3. Conclusion\n",
    "\n",
    "There are multiple advantages to tranform data from various sources to Parquet.\n",
    "\n",
    "1. It is an open format that could be read and written by major softwares. \n",
    "2. It could be well distributed to HDFS. \n",
    "3. It compresses data. \n",
    "\n",
    "For example, the original SAS files add up to 4.2 megabyte. Now as Parquet, it only weighs 292KB and achieves 14X compression ratio. "
   ]
  },
  {
   "cell_type": "code",
   "execution_count": 9,
   "metadata": {
    "collapsed": false
   },
   "outputs": [
    {
     "name": "stdout",
     "output_type": "stream",
     "text": [
      "4.0K\t./key=2/._metadata.crc\r\n",
      "4.0K\t./key=2/._SUCCESS.crc\r\n",
      "0\t./key=2/_SUCCESS\r\n",
      "4.0K\t./key=2/_common_metadata\r\n",
      "4.0K\t./key=2/.part-r-00001.gz.parquet.crc\r\n",
      "4.0K\t./key=2/._common_metadata.crc\r\n",
      "4.0K\t./key=2/_metadata\r\n",
      "60K\t./key=2/part-r-00001.gz.parquet\r\n",
      "88K\t./key=2\r\n",
      "4.0K\t./key=0/._metadata.crc\r\n",
      "4.0K\t./key=0/._SUCCESS.crc\r\n",
      "0\t./key=0/_SUCCESS\r\n",
      "4.0K\t./key=0/_common_metadata\r\n",
      "4.0K\t./key=0/.part-r-00001.gz.parquet.crc\r\n",
      "4.0K\t./key=0/._common_metadata.crc\r\n",
      "4.0K\t./key=0/_metadata\r\n",
      "12K\t./key=0/part-r-00001.gz.parquet\r\n",
      "40K\t./key=0\r\n",
      "4.0K\t./key=1/._metadata.crc\r\n",
      "4.0K\t./key=1/._SUCCESS.crc\r\n",
      "0\t./key=1/_SUCCESS\r\n",
      "4.0K\t./key=1/_common_metadata\r\n",
      "4.0K\t./key=1/.part-r-00001.gz.parquet.crc\r\n",
      "4.0K\t./key=1/._common_metadata.crc\r\n",
      "4.0K\t./key=1/_metadata\r\n",
      "132K\t./key=1/part-r-00001.gz.parquet\r\n",
      "160K\t./key=1\r\n",
      "292K\t.\r\n",
      "292K\ttotal\r\n"
     ]
    }
   ],
   "source": [
    "os.chdir('/root/playground/test_parquet/')\n",
    "!du -ahc "
   ]
  },
  {
   "cell_type": "markdown",
   "metadata": {},
   "source": [
    "A bar plot visualizes the signifcant size difference between the two formats. It shows an order of magnitudespace deduction. "
   ]
  },
  {
   "cell_type": "code",
   "execution_count": 10,
   "metadata": {
    "collapsed": false
   },
   "outputs": [
    {
     "data": {
      "image/png": "[encoded data removed]",
      "text/plain": [
       "<matplotlib.figure.Figure at 0x7fa02863f090>"
      ]
     },
     "metadata": {},
     "output_type": "display_data"
    }
   ],
   "source": [
    "%matplotlib inline\n",
    "import matplotlib.pyplot as plt\n",
    "import numpy as np\n",
    "index = np.arange(2)\n",
    "bar_width = 0.35\n",
    "data = [4200, 292]\n",
    "header = ['SAS files', 'Parquet']\n",
    "plt.bar(index, data)\n",
    "plt.grid(b=True, which='major', axis='y')\n",
    "plt.ylabel('File Size by KB')\n",
    "plt.xticks(index + bar_width, header)\n",
    "plt.show()"
   ]
  }
 ],
 "metadata": {
  "kernelspec": {
   "display_name": "Python 2",
   "language": "python",
   "name": "python2"
  },
  "language_info": {
   "codemirror_mode": {
    "name": "ipython",
    "version": 2
   },
   "file_extension": ".py",
   "mimetype": "text/x-python",
   "name": "python",
   "nbconvert_exporter": "python",
   "pygments_lexer": "ipython2",
   "version": "2.7.8"
  }
 },
 "nbformat": 4,
 "nbformat_minor": 0
}
