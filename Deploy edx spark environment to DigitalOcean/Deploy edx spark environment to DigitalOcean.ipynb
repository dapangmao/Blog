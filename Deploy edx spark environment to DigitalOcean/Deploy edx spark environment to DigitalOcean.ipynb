{
 "cells": [
  {
   "cell_type": "markdown",
   "metadata": {},
   "source": [
    "Download the fabfile from GitHub and check the head. Now I use an Ubuntu box with IP address and root password emailed by DigitalOcean."
   ]
  },
  {
   "cell_type": "code",
   "execution_count": 2,
   "metadata": {
    "collapsed": false
   },
   "outputs": [
    {
     "name": "stdout",
     "output_type": "stream",
     "text": [
      "--2015-07-28 21:16:52--  https://raw.githubusercontent.com/dapangmao/Blog/master/Deploy%20edx%20spark%20environment%20to%20DigitalOcean/fabfile.py\n",
      "Resolving raw.githubusercontent.com (raw.githubusercontent.com)... 23.235.46.133\n",
      "Connecting to raw.githubusercontent.com (raw.githubusercontent.com)|23.235.46.133|:443... connected.\n",
      "HTTP request sent, awaiting response... 200 OK\n",
      "Length: 4085 (4.0K) [text/plain]\n",
      "Saving to: 'fabfile.py'\n",
      "\n",
      "100%[======================================>] 4,085       --.-K/s   in 0s      \n",
      "\n",
      "2015-07-28 21:16:53 (363 MB/s) - 'fabfile.py' saved [4085/4085]\n",
      "\n",
      "from fabric.api import cd, env, puts, sudo, run\n",
      "from fabric.contrib.files import exists\n",
      "\n",
      "env.hosts = ['104.236.12.85']\n",
      "env.user = 'root'\n",
      "env.password = '12345'\n",
      "\n",
      "PROJECT = 'ipython-spark'\n",
      "CURRENT_VERSION = 'spark-1.4.1-bin-hadoop2.6'\n",
      "CURRENT_URL = 'http://d3kbcqa49mib13.cloudfront.net/' + CURRENT_VERSION + '.tgz'\n"
     ]
    }
   ],
   "source": [
    "!wget https://raw.githubusercontent.com/dapangmao/Blog/master/Deploy%20edx%20spark%20environment%20to%20DigitalOcean/fabfile.py\n",
    "!head fabfile.py"
   ]
  },
  {
   "cell_type": "markdown",
   "metadata": {},
   "source": [
    "There are a few functions or commands in this fabfile. They could be sequentially run or called by `deploy_edx_spark` once for all."
   ]
  },
  {
   "cell_type": "code",
   "execution_count": 3,
   "metadata": {
    "collapsed": false
   },
   "outputs": [
    {
     "name": "stdout",
     "output_type": "stream",
     "text": [
      "Available commands:\r\n",
      "\r\n",
      "    adjust_supervisor\r\n",
      "    deploy_edx_spark\r\n",
      "    download_edx_data\r\n",
      "    download_spark\r\n",
      "    get_pwd_hash\r\n",
      "    install_basics\r\n",
      "    make_ssl\r\n",
      "    run_ipython\r\n"
     ]
    }
   ],
   "source": [
    "!fab -l"
   ]
  },
  {
   "cell_type": "markdown",
   "metadata": {},
   "source": [
    "####Step 1. Install all required packages including IPython. "
   ]
  },
  {
   "cell_type": "code",
   "execution_count": 10,
   "metadata": {
    "collapsed": false,
    "scrolled": true
   },
   "outputs": [
    {
     "name": "stdout",
     "output_type": "stream",
     "text": [
      "[104.236.12.85] Executing task 'install_basics'\n",
      "[104.236.12.85] sudo: apt-get -q update\n",
      "[104.236.12.85] out: Ign http://security.ubuntu.com vivid-security InRelease\n",
      "[104.236.12.85] out: Hit http://security.ubuntu.com vivid-security Release.gpg\n",
      "[104.236.12.85] out: Hit http://security.ubuntu.com vivid-security Release\n",
      "[104.236.12.85] out: Hit http://security.ubuntu.com vivid-security/main Sources\n",
      "[104.236.12.85] out: Hit http://security.ubuntu.com vivid-security/universe Sources\n",
      "[104.236.12.85] out: Hit http://security.ubuntu.com vivid-security/main amd64 Packages\n",
      "[104.236.12.85] out: Hit http://security.ubuntu.com vivid-security/universe amd64 Packages\n",
      "[104.236.12.85] out: Hit http://security.ubuntu.com vivid-security/main i386 Packages\n",
      "[104.236.12.85] out: Hit http://security.ubuntu.com vivid-security/universe i386 Packages\n",
      "[104.236.12.85] out: Hit http://security.ubuntu.com vivid-security/main Translation-en\n",
      "[104.236.12.85] out: Hit http://security.ubuntu.com vivid-security/universe Translation-en\n",
      "[104.236.12.85] out: Ign http://mirrors.digitalocean.com vivid InRelease\n",
      "[104.236.12.85] out: Ign http://mirrors.digitalocean.com vivid-updates InRelease\n",
      "[104.236.12.85] out: Hit http://mirrors.digitalocean.com vivid Release.gpg\n",
      "[104.236.12.85] out: Hit http://mirrors.digitalocean.com vivid-updates Release.gpg\n",
      "[104.236.12.85] out: Hit http://mirrors.digitalocean.com vivid Release\n",
      "[104.236.12.85] out: Hit http://mirrors.digitalocean.com vivid-updates Release\n",
      "[104.236.12.85] out: Hit http://mirrors.digitalocean.com vivid/main Sources\n",
      "[104.236.12.85] out: Hit http://mirrors.digitalocean.com vivid/universe Sources\n",
      "[104.236.12.85] out: Hit http://mirrors.digitalocean.com vivid/main amd64 Packages\n",
      "[104.236.12.85] out: Hit http://mirrors.digitalocean.com vivid/universe amd64 Packages\n",
      "[104.236.12.85] out: Hit http://mirrors.digitalocean.com vivid/main i386 Packages\n",
      "[104.236.12.85] out: Hit http://mirrors.digitalocean.com vivid/universe i386 Packages\n",
      "[104.236.12.85] out: Hit http://mirrors.digitalocean.com vivid/main Translation-en\n",
      "[104.236.12.85] out: Hit http://mirrors.digitalocean.com vivid/universe Translation-en\n",
      "[104.236.12.85] out: Hit http://mirrors.digitalocean.com vivid-updates/main Sources\n",
      "[104.236.12.85] out: Hit http://mirrors.digitalocean.com vivid-updates/universe Sources\n",
      "[104.236.12.85] out: Hit http://mirrors.digitalocean.com vivid-updates/main amd64 Packages\n",
      "[104.236.12.85] out: Hit http://mirrors.digitalocean.com vivid-updates/universe amd64 Packages\n",
      "[104.236.12.85] out: Hit http://mirrors.digitalocean.com vivid-updates/main i386 Packages\n",
      "[104.236.12.85] out: Hit http://mirrors.digitalocean.com vivid-updates/universe i386 Packages\n",
      "[104.236.12.85] out: Hit http://mirrors.digitalocean.com vivid-updates/main Translation-en\n",
      "[104.236.12.85] out: Hit http://mirrors.digitalocean.com vivid-updates/universe Translation-en\n",
      "[104.236.12.85] out: Reading package lists...\n",
      "[104.236.12.85] out: \n",
      "\n",
      "[104.236.12.85] sudo: apt-get install -qy python-pip\n",
      "[104.236.12.85] out: Reading package lists...\n",
      "[104.236.12.85] out: Building dependency tree...\n",
      "[104.236.12.85] out: Reading state information...\n",
      "[104.236.12.85] out: python-pip is already the newest version.\n",
      "[104.236.12.85] out: 0 upgraded, 0 newly installed, 0 to remove and 21 not upgraded.\n",
      "[104.236.12.85] out: \n",
      "\n",
      "[104.236.12.85] sudo: apt-get install -qy git\n",
      "[104.236.12.85] out: Reading package lists...\n",
      "[104.236.12.85] out: Building dependency tree...\n",
      "[104.236.12.85] out: Reading state information...\n",
      "[104.236.12.85] out: git is already the newest version.\n",
      "[104.236.12.85] out: 0 upgraded, 0 newly installed, 0 to remove and 21 not upgraded.\n",
      "[104.236.12.85] out: \n",
      "\n",
      "[104.236.12.85] sudo: apt-get install -qy supervisor unzip\n",
      "[104.236.12.85] out: Reading package lists...\n",
      "[104.236.12.85] out: Building dependency tree...\n",
      "[104.236.12.85] out: Reading state information...\n",
      "[104.236.12.85] out: unzip is already the newest version.\n",
      "[104.236.12.85] out: supervisor is already the newest version.\n",
      "[104.236.12.85] out: 0 upgraded, 0 newly installed, 0 to remove and 21 not upgraded.\n",
      "[104.236.12.85] out: \n",
      "\n",
      "[104.236.12.85] sudo: apt-get install -qy python-numpy python-scipy python-matplotlib\n",
      "[104.236.12.85] out: Reading package lists...\n",
      "[104.236.12.85] out: Building dependency tree...\n",
      "[104.236.12.85] out: Reading state information...\n",
      "[104.236.12.85] out: python-numpy is already the newest version.\n",
      "[104.236.12.85] out: python-matplotlib is already the newest version.\n",
      "[104.236.12.85] out: python-scipy is already the newest version.\n",
      "[104.236.12.85] out: 0 upgraded, 0 newly installed, 0 to remove and 21 not upgraded.\n",
      "[104.236.12.85] out: \n",
      "\n",
      "[104.236.12.85] sudo: apt-get install -qy default-jre\n",
      "[104.236.12.85] out: Reading package lists...\n",
      "[104.236.12.85] out: Building dependency tree...\n",
      "[104.236.12.85] out: Reading state information...\n",
      "[104.236.12.85] out: default-jre is already the newest version.\n",
      "[104.236.12.85] out: 0 upgraded, 0 newly installed, 0 to remove and 21 not upgraded.\n",
      "[104.236.12.85] out: \n",
      "\n",
      "[104.236.12.85] sudo: pip install \"ipython[all]\"\n",
      "[104.236.12.85] out: Requirement already satisfied (use --upgrade to upgrade): ipython[all] in /usr/local/lib/python2.7/dist-packages\n",
      "[104.236.12.85] out:   Installing extra requirements: 'all'\n",
      "[104.236.12.85] out: Cleaning up...\n",
      "[104.236.12.85] out: \n",
      "\n",
      "\n",
      "Done.\n",
      "Disconnecting from 104.236.12.85... done.\n"
     ]
    }
   ],
   "source": [
    "!fab install_basics"
   ]
  },
  {
   "cell_type": "markdown",
   "metadata": {},
   "source": [
    "####Step 2. Issue self-signed SSL."
   ]
  },
  {
   "cell_type": "code",
   "execution_count": 11,
   "metadata": {
    "collapsed": false
   },
   "outputs": [
    {
     "name": "stdout",
     "output_type": "stream",
     "text": [
      "[104.236.12.85] Executing task 'make_ssl'\n",
      "[104.236.12.85] sudo: openssl req -x509 -nodes -days 365 -newkey rsa:1024 -keyout mycert.pem -out mycert.pem -subj \"/CN=edx/O=spark/C=US\"\n",
      "[104.236.12.85] out: Generating a 1024 bit RSA private key\n",
      "[104.236.12.85] out: ....................++++++\n",
      "[104.236.12.85] out: ................................................++++++\n",
      "[104.236.12.85] out: writing new private key to 'mycert.pem'\n",
      "[104.236.12.85] out: -----\n",
      "[104.236.12.85] out: \n",
      "\n",
      "\n",
      "Done.\n",
      "Disconnecting from 104.236.12.85... done.\n"
     ]
    }
   ],
   "source": [
    "!fab make_ssl"
   ]
  },
  {
   "cell_type": "markdown",
   "metadata": {},
   "source": [
    "####Step 3. Download the lastest Spark"
   ]
  },
  {
   "cell_type": "code",
   "execution_count": 12,
   "metadata": {
    "collapsed": false,
    "scrolled": true
   },
   "outputs": [
    {
     "name": "stdout",
     "output_type": "stream",
     "text": [
      "[104.236.12.85] Executing task 'download_spark'\n",
      "\n",
      "Done.\n",
      "Disconnecting from 104.236.12.85... done.\n"
     ]
    }
   ],
   "source": [
    "!fab download_spark"
   ]
  },
  {
   "cell_type": "markdown",
   "metadata": {},
   "source": [
    "####Step 4. Download the data and IPython notebook from the edx courses cs100 and cs190"
   ]
  },
  {
   "cell_type": "code",
   "execution_count": 13,
   "metadata": {
    "collapsed": false
   },
   "outputs": [
    {
     "name": "stdout",
     "output_type": "stream",
     "text": [
      "[104.236.12.85] Executing task 'download_edx_data'\n",
      "[104.236.12.85] run: wget https://github.com/spark-mooc/cs100-data/raw/master/cs100.zip\n",
      "[104.236.12.85] out: --2015-07-28 20:53:59--  https://github.com/spark-mooc/cs100-data/raw/master/cs100.zip\n",
      "[104.236.12.85] out: Resolving github.com (github.com)... 192.30.252.129\n",
      "[104.236.12.85] out: Connecting to github.com (github.com)|192.30.252.129|:443... connected.\n",
      "[104.236.12.85] out: HTTP request sent, awaiting response... 302 Found\n",
      "[104.236.12.85] out: Location: https://raw.githubusercontent.com/spark-mooc/cs100-data/master/cs100.zip [following]\n",
      "[104.236.12.85] out: --2015-07-28 20:53:59--  https://raw.githubusercontent.com/spark-mooc/cs100-data/master/cs100.zip\n",
      "[104.236.12.85] out: Resolving raw.githubusercontent.com (raw.githubusercontent.com)... 199.27.76.133\n",
      "[104.236.12.85] out: Connecting to raw.githubusercontent.com (raw.githubusercontent.com)|199.27.76.133|:443... connected.\n",
      "[104.236.12.85] out: HTTP request sent, awaiting response... 200 OK\n",
      "[104.236.12.85] out: Length: 16973315 (16M) [application/octet-stream]\n",
      "[104.236.12.85] out: Saving to: ���cs100.zip���\n",
      "[104.236.12.85] out: \n",
      "[104.236.12.85] out: \n",
      "[104.236.12.85] out: cs100.zip             0%[                      ]       0  --.-KB/s             \n",
      "[104.236.12.85] out: cs100.zip            86%[=================>    ]  13.93M  69.6MB/s             \n",
      "[104.236.12.85] out: cs100.zip           100%[=====================>]  16.19M  73.1MB/s   in 0.2s   \n",
      "[104.236.12.85] out: \n",
      "[104.236.12.85] out: 2015-07-28 20:54:00 (73.1 MB/s) - ���cs100.zip��� saved [16973315/16973315]\n",
      "[104.236.12.85] out: \n",
      "[104.236.12.85] out: \n",
      "\n",
      "[104.236.12.85] run: wget https://github.com/spark-mooc/cs190-data/raw/master/cs190.zip\n",
      "[104.236.12.85] out: --2015-07-28 20:54:00--  https://github.com/spark-mooc/cs190-data/raw/master/cs190.zip\n",
      "[104.236.12.85] out: Resolving github.com (github.com)... 192.30.252.129\n",
      "[104.236.12.85] out: Connecting to github.com (github.com)|192.30.252.129|:443... connected.\n",
      "[104.236.12.85] out: HTTP request sent, awaiting response... 302 Found\n",
      "[104.236.12.85] out: Location: https://raw.githubusercontent.com/spark-mooc/cs190-data/master/cs190.zip [following]\n",
      "[104.236.12.85] out: --2015-07-28 20:54:00--  https://raw.githubusercontent.com/spark-mooc/cs190-data/master/cs190.zip\n",
      "[104.236.12.85] out: Resolving raw.githubusercontent.com (raw.githubusercontent.com)... 199.27.76.133\n",
      "[104.236.12.85] out: Connecting to raw.githubusercontent.com (raw.githubusercontent.com)|199.27.76.133|:443... connected.\n",
      "[104.236.12.85] out: HTTP request sent, awaiting response... 200 OK\n",
      "[104.236.12.85] out: Length: 16032339 (15M) [application/octet-stream]\n",
      "[104.236.12.85] out: Saving to: ���cs190.zip���\n",
      "[104.236.12.85] out: \n",
      "[104.236.12.85] out: \n",
      "[104.236.12.85] out: cs190.zip             0%[                      ]       0  --.-KB/s             \n",
      "[104.236.12.85] out: cs190.zip            68%[==============>       ]  10.47M  52.3MB/s             \n",
      "[104.236.12.85] out: cs190.zip           100%[=====================>]  15.29M  62.7MB/s   in 0.2s   \n",
      "[104.236.12.85] out: \n",
      "[104.236.12.85] out: 2015-07-28 20:54:01 (62.7 MB/s) - ���cs190.zip��� saved [16032339/16032339]\n",
      "[104.236.12.85] out: \n",
      "[104.236.12.85] out: \n",
      "\n",
      "[104.236.12.85] run: unzip cs100.zip\n",
      "[104.236.12.85] out: Archive:  cs100.zip\n",
      "[104.236.12.85] out: replace cs100/lab1/shakespeare.txt? [y]es, [n]o, [A]ll, [N]one, [r]ename: \n",
      "Stopped.\n",
      "Disconnecting from 104.236.12.85... done.\n",
      "\n"
     ]
    }
   ],
   "source": [
    "!fab download_edx_data"
   ]
  },
  {
   "cell_type": "markdown",
   "metadata": {},
   "source": [
    "####Step 5. Setup up the access password. Here the password is a simple 12345."
   ]
  },
  {
   "cell_type": "code",
   "execution_count": 14,
   "metadata": {
    "collapsed": false
   },
   "outputs": [
    {
     "name": "stdout",
     "output_type": "stream",
     "text": [
      "[104.236.12.85] Executing task 'get_pwd_hash'\n",
      "[104.236.12.85] run: echo 'from IPython.lib import passwd; print passwd(str(12345))' > pwd.py\n",
      "[104.236.12.85] run: python pwd.py\n",
      "[104.236.12.85] out: sha1:7d534c14e42e:e147d921d310b397b0a99eb80f4bd7870221f4d2\n",
      "[104.236.12.85] out: \n",
      "\n",
      "[104.236.12.85] run: ipython profile create nbserver\n",
      "[104.236.12.85] run: echo '\n",
      "# Kernel config\n",
      "c = get_config()\n",
      "# Notebook config\n",
      "c.NotebookApp.certfile = u\"/root/.ipython/mycert.pem\"\n",
      "c.NotebookApp.keyfile = u\"/root/.ipython/mycert.pem\"\n",
      "c.NotebookApp.ip = \"*\"\n",
      "c.NotebookApp.open_browser = False\n",
      "c.NotebookApp.password = u\"sha1:7d534c14e42e:e147d921d310b397b0a99eb80f4bd7870221f4d2\"\n",
      "# Set up the port\n",
      "c.NotebookApp.port = 9999\n",
      "c.NotebookApp.notebook_dir = u\"/root\"\n",
      "' >> ipython_notebook_config.py\n",
      "[104.236.12.85] run: echo 'c.IPKernelApp.matplotlib = \"inline\"' >> ipython_config.py\n",
      "\n",
      "Done.\n",
      "Disconnecting from 104.236.12.85... done.\n"
     ]
    }
   ],
   "source": [
    "!fab get_pwd_hash:\"12345\""
   ]
  },
  {
   "cell_type": "markdown",
   "metadata": {},
   "source": [
    "####Step 6. Set IPython notebook as a permenant process."
   ]
  },
  {
   "cell_type": "code",
   "execution_count": 15,
   "metadata": {
    "collapsed": false
   },
   "outputs": [
    {
     "name": "stdout",
     "output_type": "stream",
     "text": [
      "[104.236.12.85] Executing task 'adjust_supervisor'\n",
      "[104.236.12.85] sudo: supervisorctl reread\n",
      "[104.236.12.85] out: No config updates to processes\n",
      "[104.236.12.85] out: \n",
      "\n",
      "[104.236.12.85] sudo: supervisorctl update\n",
      "\n",
      "Done.\n",
      "Disconnecting from 104.236.12.85... done.\n"
     ]
    }
   ],
   "source": [
    "!fab adjust_supervisor"
   ]
  },
  {
   "cell_type": "markdown",
   "metadata": {},
   "source": [
    "####Step 7. Fire up the IPython server."
   ]
  },
  {
   "cell_type": "code",
   "execution_count": 17,
   "metadata": {
    "collapsed": false
   },
   "outputs": [
    {
     "name": "stdout",
     "output_type": "stream",
     "text": [
      "[104.236.12.85] Executing task 'run_ipython'\n",
      "[104.236.12.85] sudo: supervisorctl start ipython-spark\n",
      "[104.236.12.85] out: ipython-spark: started\n",
      "[104.236.12.85] out: \n",
      "\n",
      "[104.236.12.85] Now go to https://104.236.12.85:9999 to view the app\n",
      "\n",
      "Done.\n",
      "Disconnecting from 104.236.12.85... done.\n"
     ]
    }
   ],
   "source": [
    "!fab run_ipython"
   ]
  }
 ],
 "metadata": {
  "kernelspec": {
   "display_name": "Python 2",
   "language": "python",
   "name": "python2"
  },
  "language_info": {
   "codemirror_mode": {
    "name": "ipython",
    "version": 2
   },
   "file_extension": ".py",
   "mimetype": "text/x-python",
   "name": "python",
   "nbconvert_exporter": "python",
   "pygments_lexer": "ipython2",
   "version": "2.7.8"
  }
 },
 "nbformat": 4,
 "nbformat_minor": 0
}
