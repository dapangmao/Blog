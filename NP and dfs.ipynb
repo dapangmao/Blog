{
 "metadata": {
  "name": "",
  "signature": "sha256:62fa70c7fda653f742a0aa0055f93e2ad4211a1e1d0d6ba20220b2d87808cbf6"
 },
 "nbformat": 3,
 "nbformat_minor": 0,
 "worksheets": [
  {
   "cells": [
    {
     "cell_type": "markdown",
     "metadata": {
      "slideshow": {
       "slide_type": "slide"
      }
     },
     "source": [
      "### With NP "
     ]
    },
    {
     "cell_type": "code",
     "collapsed": false,
     "input": [
      "class Solution:\n",
      "    # @param num, a list of integer\n",
      "    # @return a list of lists of integers\n",
      "    def permute(self, num):\n",
      "        self.res = []\n",
      "        self.dfs(num, [])\n",
      "        return self.res\n",
      "        \n",
      "    def dfs(self, num, current):\n",
      "        if len(num) == 0:\n",
      "            self.res.append(current)\n",
      "            return\n",
      "        for i in xrange(len(current) + 1):\n",
      "            self.dfs(num[1:], current[:i] + [num[0]] + current[i:])"
     ],
     "language": "python",
     "metadata": {
      "slideshow": {
       "slide_type": "-"
      }
     },
     "outputs": [],
     "prompt_number": 3
    },
    {
     "cell_type": "code",
     "collapsed": false,
     "input": [
      "a = Solution()\n",
      "print a.permute([1, 2, 3, 4])"
     ],
     "language": "python",
     "metadata": {},
     "outputs": [
      {
       "output_type": "stream",
       "stream": "stdout",
       "text": [
        "[[4, 3, 2, 1], [3, 4, 2, 1], [3, 2, 4, 1], [3, 2, 1, 4], [4, 2, 3, 1], [2, 4, 3, 1], [2, 3, 4, 1], [2, 3, 1, 4], [4, 2, 1, 3], [2, 4, 1, 3], [2, 1, 4, 3], [2, 1, 3, 4], [4, 3, 1, 2], [3, 4, 1, 2], [3, 1, 4, 2], [3, 1, 2, 4], [4, 1, 3, 2], [1, 4, 3, 2], [1, 3, 4, 2], [1, 3, 2, 4], [4, 1, 2, 3], [1, 4, 2, 3], [1, 2, 4, 3], [1, 2, 3, 4]]\n"
       ]
      }
     ],
     "prompt_number": 4
    },
    {
     "cell_type": "code",
     "collapsed": false,
     "input": [],
     "language": "python",
     "metadata": {},
     "outputs": []
    }
   ],
   "metadata": {}
  }
 ]
}
