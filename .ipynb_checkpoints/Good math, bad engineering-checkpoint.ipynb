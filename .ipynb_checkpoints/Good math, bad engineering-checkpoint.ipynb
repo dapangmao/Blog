{
 "cells": [
  {
   "cell_type": "markdown",
   "metadata": {},
   "source": [
    "### The engineering example\n",
    "\n",
    "- The question is from https://leetcode.com/problems/target-sum/\n",
    "\n",
    "You are given a list of non-negative integers, a1, a2, ..., an, and a target, S. Now you have 2 symbols + and -. For each integer, you should choose one from + and - as its new symbol.\n",
    "\n",
    "Find out how many ways to assign symbols to make sum of integers equal to target S.\n",
    "\n",
    "Example 1:\n",
    "Input: nums is [1, 1, 1, 1, 1], S is 3. \n",
    "Output: 5\n",
    "Explanation: \n",
    "\n",
    "-1+1+1+1+1 = 3\n",
    "+1-1+1+1+1 = 3\n",
    "+1+1-1+1+1 = 3\n",
    "+1+1+1-1+1 = 3\n",
    "+1+1+1+1-1 = 3\n",
    "\n",
    "\n",
    "There are 5 ways to assign symbols to make the sum of nums be target 3.\n",
    "\n",
    "#### 0. Simple test cases"
   ]
  },
  {
   "cell_type": "code",
   "execution_count": 14,
   "metadata": {
    "collapsed": true
   },
   "outputs": [],
   "source": [
    "from functools import lru_cache\n",
    "\n",
    "small_test_nums = (1, 1, 1, 1, 1)\n",
    "small_test_S = 3\n",
    "\n",
    "big_test_nums = tuple(range(100))\n",
    "big_test_S = sum(range(88))"
   ]
  },
  {
   "cell_type": "markdown",
   "metadata": {},
   "source": [
    "#### 1. Solution I\n",
    "\n",
    "- The DP formula is **dp(n, s) = dp(n-1, s-x) + dp(n-1, s+x)**\n",
    "    - `n` is the size of the list\n",
    "    - `s` is the sum of the numbers\n",
    "    - `x` is the one that adds to the previous list and then becomes the current list\n",
    "   \n",
    "- Then derive the function according to the formula directly\n",
    "\n",
    "- Works fine with small test case. Don't try it with the big test case."
   ]
  },
  {
   "cell_type": "code",
   "execution_count": 15,
   "metadata": {
    "collapsed": false
   },
   "outputs": [
    {
     "name": "stdout",
     "output_type": "stream",
     "text": [
      "CPU times: user 26 µs, sys: 1 µs, total: 27 µs\n",
      "Wall time: 29.1 µs\n"
     ]
    },
    {
     "data": {
      "text/plain": [
       "5"
      ]
     },
     "execution_count": 15,
     "metadata": {},
     "output_type": "execute_result"
    }
   ],
   "source": [
    "def findTargetSumWays_1(nums, S):\n",
    "    \"\"\"\n",
    "    :type nums: Tuple[int]\n",
    "    :type S: int\n",
    "    :rtype: int\n",
    "    \"\"\"\n",
    "    if not nums:\n",
    "        if S == 0:\n",
    "            return 1\n",
    "        else:\n",
    "            return 0\n",
    "    return findTargetSumWays_1(nums[1:], S+nums[0]) + findTargetSumWays_1(nums[1:], S-nums[0]) \n",
    "\n",
    "%time findTargetSumWays_1(small_test_nums, small_test_S)"
   ]
  },
  {
   "cell_type": "markdown",
   "metadata": {},
   "source": [
    "#### 2. Solution II\n",
    "\n",
    "- The first solution has very high time complexity that is O(2^n)\n",
    "- The second solution that uses a dictionary tree minimizes the time complexity to O(n^2)"
   ]
  },
  {
   "cell_type": "code",
   "execution_count": 16,
   "metadata": {
    "collapsed": false
   },
   "outputs": [
    {
     "name": "stdout",
     "output_type": "stream",
     "text": [
      "CPU times: user 189 ms, sys: 4.77 ms, total: 194 ms\n",
      "Wall time: 192 ms\n"
     ]
    },
    {
     "data": {
      "text/plain": [
       "8237551368391290"
      ]
     },
     "execution_count": 16,
     "metadata": {},
     "output_type": "execute_result"
    }
   ],
   "source": [
    "def findTargetSumWays_2(nums, S):\n",
    "    if not nums:\n",
    "        return 0\n",
    "    dic = {nums[0]: 1, -nums[0]: 1} if nums[0] != 0 else {0: 2}\n",
    "    for i in range(1, len(nums)):\n",
    "        tdic = {}\n",
    "        for d in dic:\n",
    "            tdic[d + nums[i]] = tdic.get(d + nums[i], 0) + dic.get(d, 0)\n",
    "            tdic[d - nums[i]] = tdic.get(d - nums[i], 0) + dic.get(d, 0)\n",
    "        dic = tdic\n",
    "    return dic.get(S, 0)\n",
    "\n",
    "%time findTargetSumWays_2(big_test_nums, big_test_S)"
   ]
  },
  {
   "cell_type": "markdown",
   "metadata": {},
   "source": [
    "#### 3. Solution III\n",
    "\n",
    "- The third solution added one decorator `lru_cache` to the first solution\n",
    "- realizes the data structure of the second solution with a lru cache"
   ]
  },
  {
   "cell_type": "code",
   "execution_count": 17,
   "metadata": {
    "collapsed": false
   },
   "outputs": [
    {
     "name": "stdout",
     "output_type": "stream",
     "text": [
      "CPU times: user 658 ms, sys: 19.7 ms, total: 677 ms\n",
      "Wall time: 680 ms\n"
     ]
    },
    {
     "data": {
      "text/plain": [
       "8237551368391290"
      ]
     },
     "execution_count": 17,
     "metadata": {},
     "output_type": "execute_result"
    }
   ],
   "source": [
    "@lru_cache(10000000)\n",
    "def findTargetSumWays_3(nums, S):\n",
    "    if not nums:\n",
    "        if S == 0:\n",
    "            return 1\n",
    "        else:\n",
    "            return 0\n",
    "    return findTargetSumWays_3(nums[1:], S+nums[0]) + findTargetSumWays_3(nums[1:], S-nums[0]) \n",
    "\n",
    "%time findTargetSumWays_3(big_test_nums, big_test_S)"
   ]
  }
 ],
 "metadata": {
  "kernelspec": {
   "display_name": "Python 3",
   "language": "python",
   "name": "python3"
  },
  "language_info": {
   "codemirror_mode": {
    "name": "ipython",
    "version": 3
   },
   "file_extension": ".py",
   "mimetype": "text/x-python",
   "name": "python",
   "nbconvert_exporter": "python",
   "pygments_lexer": "ipython3",
   "version": "3.5.2"
  }
 },
 "nbformat": 4,
 "nbformat_minor": 2
}
