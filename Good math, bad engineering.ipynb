{
 "cells": [
  {
   "cell_type": "code",
   "execution_count": 47,
   "metadata": {
    "collapsed": true
   },
   "outputs": [],
   "source": [
    "from functools import lru_cache\n",
    "\n",
    "test_nums = tuple(range(100))\n",
    "test_S = sum(range(88))"
   ]
  },
  {
   "cell_type": "code",
   "execution_count": 57,
   "metadata": {
    "collapsed": false
   },
   "outputs": [
    {
     "name": "stdout",
     "output_type": "stream",
     "text": [
      "CPU times: user 227 ms, sys: 3.22 ms, total: 230 ms\n",
      "Wall time: 231 ms\n"
     ]
    },
    {
     "data": {
      "text/plain": [
       "8237551368391290"
      ]
     },
     "execution_count": 57,
     "metadata": {},
     "output_type": "execute_result"
    }
   ],
   "source": [
    "def findTargetSumWays_2(nums, S):\n",
    "    if not nums:\n",
    "        return 0\n",
    "    dic = {nums[0]: 1, -nums[0]: 1} if nums[0] != 0 else {0: 2}\n",
    "    for i in range(1, len(nums)):\n",
    "        tdic = {}\n",
    "        for d in dic:\n",
    "            tdic[d + nums[i]] = tdic.get(d + nums[i], 0) + dic.get(d, 0)\n",
    "            tdic[d - nums[i]] = tdic.get(d - nums[i], 0) + dic.get(d, 0)\n",
    "        dic = tdic\n",
    "    return dic.get(S, 0)\n",
    "\n",
    "%time findTargetSumWays_2(tuple(range(100)), sum(range(88)))\n",
    "\n"
   ]
  },
  {
   "cell_type": "code",
   "execution_count": 59,
   "metadata": {
    "collapsed": false
   },
   "outputs": [
    {
     "name": "stdout",
     "output_type": "stream",
     "text": [
      "CPU times: user 690 ms, sys: 23.8 ms, total: 713 ms\n",
      "Wall time: 718 ms\n"
     ]
    },
    {
     "data": {
      "text/plain": [
       "8237551368391290"
      ]
     },
     "execution_count": 59,
     "metadata": {},
     "output_type": "execute_result"
    }
   ],
   "source": [
    "@lru_cache(10000000)\n",
    "def findTargetSumWays_3(nums, S):\n",
    "    \"\"\"\n",
    "    :type nums: List[int]\n",
    "    :type S: int\n",
    "    :rtype: int\n",
    "    \"\"\"\n",
    "    if not nums:\n",
    "        if S == 0:\n",
    "            return 1\n",
    "        else:\n",
    "            return 0\n",
    "    return findTargetSumWays_3(nums[1:], S+nums[0]) + findTargetSumWays_3(nums[1:], S-nums[0]) \n",
    "\n",
    "%time findTargetSumWays_3(test_nums, test_S)\n"
   ]
  }
 ],
 "metadata": {
  "kernelspec": {
   "display_name": "Python 3",
   "language": "python",
   "name": "python3"
  },
  "language_info": {
   "codemirror_mode": {
    "name": "ipython",
    "version": 3
   },
   "file_extension": ".py",
   "mimetype": "text/x-python",
   "name": "python",
   "nbconvert_exporter": "python",
   "pygments_lexer": "ipython3",
   "version": "3.5.2"
  }
 },
 "nbformat": 4,
 "nbformat_minor": 2
}
